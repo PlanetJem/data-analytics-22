{
  "nbformat": 4,
  "nbformat_minor": 0,
  "metadata": {
    "colab": {
      "name": "Copy of Unit2_Mini_Project.ipynb",
      "provenance": [],
      "collapsed_sections": [],
      "include_colab_link": true
    },
    "kernelspec": {
      "name": "python3",
      "display_name": "Python 3"
    }
  },
  "cells": [
    {
      "cell_type": "markdown",
      "metadata": {
        "id": "view-in-github",
        "colab_type": "text"
      },
      "source": [
        "<a href=\"https://colab.research.google.com/github/PlanetJem/data-analytics-22/blob/main/Copy_of_Unit2_Mini_Project.ipynb\" target=\"_parent\"><img src=\"https://colab.research.google.com/assets/colab-badge.svg\" alt=\"Open In Colab\"/></a>"
      ]
    },
    {
      "cell_type": "markdown",
      "metadata": {
        "id": "Vgs8Kp4TidFQ"
      },
      "source": [
        "# Intrdouction to Python - Mini Project"
      ]
    },
    {
      "cell_type": "markdown",
      "source": [
        "*Names*: Michelle Ye, Ruoyin Zhou, Kezia Kent\n"
      ],
      "metadata": {
        "id": "za2Ours5M50I"
      }
    },
    {
      "cell_type": "markdown",
      "metadata": {
        "id": "_Hq7Ny79iwgD"
      },
      "source": [
        "#Python Project – Odd or Even (30 pts)\n",
        "\n",
        "Ask the user for a number. Depending on whether the number is even or odd, print out an appropriate message to the user. Hint: how does an even / odd number react differently when divided by 2?\n"
      ]
    },
    {
      "cell_type": "code",
      "source": [
        "user = input('Enter a number:')\n",
        "print('The number you enter is ' + user)\n"
      ],
      "metadata": {
        "id": "AT2iNhx4qZav",
        "colab": {
          "base_uri": "https://localhost:8080/"
        },
        "outputId": "72cb4044-d235-447b-cf97-258bb88441a4"
      },
      "execution_count": null,
      "outputs": [
        {
          "output_type": "stream",
          "name": "stdout",
          "text": [
            "Enter a number:4\n",
            "The number you enter is 4\n"
          ]
        }
      ]
    },
    {
      "cell_type": "code",
      "source": [
        "user = input('Enter a number:')\n",
        "ans = int(user) % 2\n",
        "if ans > 0:\n",
        "  print('You selected an odd number')\n",
        "else:\n",
        "  print('You selected an even number')"
      ],
      "metadata": {
        "id": "dB_vyAFKx68K",
        "colab": {
          "base_uri": "https://localhost:8080/"
        },
        "outputId": "70bf5041-6292-494d-9f27-daaca86901ae"
      },
      "execution_count": null,
      "outputs": [
        {
          "output_type": "stream",
          "name": "stdout",
          "text": [
            "Enter a number:1\n",
            "You selected an odd number\n"
          ]
        }
      ]
    },
    {
      "cell_type": "markdown",
      "source": [
        "#Bonus 1 (5 points)\n",
        "\n",
        "If the number is a multiple of 4, print out a different message."
      ],
      "metadata": {
        "id": "hx9hq2pEsHQ2"
      }
    },
    {
      "cell_type": "code",
      "source": [
        "user = input('Enter a number:')\n",
        "ans = int(user) % 2\n",
        "four = int(user)% 4\n",
        "if int(ans) > 0:\n",
        "  print('You selected an odd number')\n",
        "elif int(four) == 0: \n",
        "  print('You selected number is divided by four')\n",
        "else:\n",
        "  print('You selected an even number')\n",
        "  "
      ],
      "metadata": {
        "id": "7RMmxiuOsOvC",
        "colab": {
          "base_uri": "https://localhost:8080/"
        },
        "outputId": "373a4d34-d301-4593-db3f-9e6dfe1ec84b"
      },
      "execution_count": null,
      "outputs": [
        {
          "output_type": "stream",
          "name": "stdout",
          "text": [
            "Enter a number:4\n",
            "You selected number is divided by four\n"
          ]
        }
      ]
    },
    {
      "cell_type": "markdown",
      "source": [
        "#Bonus 2 (5 pts)\n",
        "\n",
        "Ask the user for two numbers: one number to check (call it num) and one number to divide by (check).  If check divides evenly into num, tell that to the user.  If not, print a different appropriate message.\n"
      ],
      "metadata": {
        "id": "bGrUgKzZsQeU"
      }
    },
    {
      "cell_type": "code",
      "source": [
        "check = int(input('enter your first number '))\n",
        "num = int(input('enter your second number '))\n",
        "print(check)\n",
        "print(num)\n",
        "\n"
      ],
      "metadata": {
        "id": "vzh3d3N6sVNo",
        "colab": {
          "base_uri": "https://localhost:8080/"
        },
        "outputId": "791aa9da-9ed1-48ff-d839-72ea531edf66"
      },
      "execution_count": null,
      "outputs": [
        {
          "output_type": "stream",
          "name": "stdout",
          "text": [
            "enter your first number 2\n",
            "enter your second number 4\n",
            "2\n",
            "4\n"
          ]
        }
      ]
    },
    {
      "cell_type": "code",
      "source": [
        "\n",
        "if (num%check) == 0:\n",
        "  print('Your second number divides evenly into your first number, Congrats!!')\n",
        "else:\n",
        "  print('Your second number does not divide evenly into your first number, Try again!!')\n"
      ],
      "metadata": {
        "id": "zCRBXSJAsVqR",
        "colab": {
          "base_uri": "https://localhost:8080/"
        },
        "outputId": "4e3ac624-0359-4542-bcf9-ea1de42b2471"
      },
      "execution_count": null,
      "outputs": [
        {
          "output_type": "stream",
          "name": "stdout",
          "text": [
            "Your second number divides evenly into your first number, Congrats!!\n"
          ]
        }
      ]
    }
  ]
}