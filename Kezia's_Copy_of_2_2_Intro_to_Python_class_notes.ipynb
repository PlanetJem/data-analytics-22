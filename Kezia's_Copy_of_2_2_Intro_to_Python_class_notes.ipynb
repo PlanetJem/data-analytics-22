{
  "nbformat": 4,
  "nbformat_minor": 0,
  "metadata": {
    "colab": {
      "name": "Kezia's Copy of 2-2 Intro to Python class notes.ipynb",
      "provenance": [],
      "include_colab_link": true
    },
    "kernelspec": {
      "name": "python3",
      "display_name": "Python 3"
    },
    "language_info": {
      "name": "python"
    }
  },
  "cells": [
    {
      "cell_type": "markdown",
      "metadata": {
        "id": "view-in-github",
        "colab_type": "text"
      },
      "source": [
        "<a href=\"https://colab.research.google.com/github/PlanetJem/data-analytics-22/blob/notebook/Kezia's_Copy_of_2_2_Intro_to_Python_class_notes.ipynb\" target=\"_parent\"><img src=\"https://colab.research.google.com/assets/colab-badge.svg\" alt=\"Open In Colab\"/></a>"
      ]
    },
    {
      "cell_type": "markdown",
      "source": [
        "# 2-2 Intro to Python class notes"
      ],
      "metadata": {
        "id": "Ork06ushmr7l"
      }
    },
    {
      "cell_type": "markdown",
      "source": [
        "Print a message\n",
        "\n",
        "Must have **''** or **\"\"** within brackets for code to run succcessfully."
      ],
      "metadata": {
        "id": "Y194UfcaxGpt"
      }
    },
    {
      "cell_type": "code",
      "source": [
        "#add text inside the print function\n",
        "print('hello world!')"
      ],
      "metadata": {
        "id": "gQOCImXcoArE",
        "colab": {
          "base_uri": "https://localhost:8080/"
        },
        "outputId": "c20ed0ca-4ed2-41e9-c2a2-180ee922187c"
      },
      "execution_count": null,
      "outputs": [
        {
          "output_type": "stream",
          "name": "stdout",
          "text": [
            "hello world!\n"
          ]
        }
      ]
    },
    {
      "cell_type": "markdown",
      "source": [
        "#TRY IT YOURSELF \n",
        "* Store a message in a variable, then print out that message.\n",
        "* Then change the value of your variable to a new message, and print the new message.\n"
      ],
      "metadata": {
        "id": "_FIuzurpq5W5"
      }
    },
    {
      "cell_type": "code",
      "execution_count": null,
      "metadata": {
        "id": "wgBbV_hdl4tq"
      },
      "outputs": [],
      "source": [
        "#this is my message\n",
        "message = 'Hello world'\n",
        "message1 = 'hola'\n"
      ]
    },
    {
      "cell_type": "code",
      "source": [
        "print(message)\n",
        "print(message1)"
      ],
      "metadata": {
        "id": "0wA95rnimpiM",
        "colab": {
          "base_uri": "https://localhost:8080/"
        },
        "outputId": "64b1c659-6b5d-4b7e-f9ed-8b7bb8bb223c"
      },
      "execution_count": null,
      "outputs": [
        {
          "output_type": "stream",
          "name": "stdout",
          "text": [
            "Hello world\n",
            "hola\n"
          ]
        }
      ]
    },
    {
      "cell_type": "code",
      "source": [
        "#message2\n",
        "message2 = 'goodbye'\n",
        "chicken = 'chicken'\n",
        "noodle = 'noodle'\n",
        "soup = 'soup'"
      ],
      "metadata": {
        "id": "W1BwKoygxhKw"
      },
      "execution_count": null,
      "outputs": []
    },
    {
      "cell_type": "code",
      "source": [
        "print(message2)\n",
        "print (chicken)\n",
        "print (noodle)\n",
        "print (soup)"
      ],
      "metadata": {
        "id": "-aBEw4vVxhUd",
        "colab": {
          "base_uri": "https://localhost:8080/"
        },
        "outputId": "cea27883-77fa-4937-b15f-cb44f0920c14"
      },
      "execution_count": null,
      "outputs": [
        {
          "output_type": "stream",
          "name": "stdout",
          "text": [
            "goodbye\n",
            "chicken\n",
            "noodle\n",
            "soup\n"
          ]
        }
      ]
    },
    {
      "cell_type": "markdown",
      "source": [
        "# WORKING WITH STRINGS IN PYTHON"
      ],
      "metadata": {
        "id": "5CYluC2S3j6l"
      }
    },
    {
      "cell_type": "code",
      "source": [
        "# using .upper() and .lower() methods\n",
        "\n",
        "name = 'kezia kent'\n",
        "\n",
        "print(name.upper())\n",
        "print(name.lower())\n",
        "print(name.title())"
      ],
      "metadata": {
        "id": "PgVRy83e7J-j",
        "colab": {
          "base_uri": "https://localhost:8080/"
        },
        "outputId": "5723e391-02c2-445d-c841-0cfb9982dd97"
      },
      "execution_count": null,
      "outputs": [
        {
          "output_type": "stream",
          "name": "stdout",
          "text": [
            "KEZIA KENT\n",
            "kezia kent\n",
            "Kezia Kent\n"
          ]
        }
      ]
    },
    {
      "cell_type": "code",
      "source": [
        "# Concatenating strings (putting them together)\n",
        "first_name = 'kezia'\n",
        "last_name = 'kent'\n",
        "\n",
        "#use plus signs to concatenate first_name and last_name into a variable called full_name\n",
        "full_name = first_name + ' ' + last_name"
      ],
      "metadata": {
        "id": "XGCIsGSdtes4"
      },
      "execution_count": null,
      "outputs": []
    },
    {
      "cell_type": "code",
      "source": [
        "print(full_name)"
      ],
      "metadata": {
        "id": "aojwZh2ltr_8",
        "colab": {
          "base_uri": "https://localhost:8080/"
        },
        "outputId": "2174c48c-81d1-4693-d6a0-5f216e8a8252"
      },
      "execution_count": null,
      "outputs": [
        {
          "output_type": "stream",
          "name": "stdout",
          "text": [
            "kezia kent\n"
          ]
        }
      ]
    },
    {
      "cell_type": "code",
      "source": [
        "#use \\t to add a tab to your name\n",
        "print('Kezia Kent')\n",
        "print('\\tKezia Kent')"
      ],
      "metadata": {
        "id": "Hl6xn89WuhaF",
        "colab": {
          "base_uri": "https://localhost:8080/"
        },
        "outputId": "c200e6f3-007e-4c35-9f70-39553f0a631d"
      },
      "execution_count": null,
      "outputs": [
        {
          "output_type": "stream",
          "name": "stdout",
          "text": [
            "Kezia Kent\n",
            "\tKezia Kent\n"
          ]
        }
      ]
    },
    {
      "cell_type": "code",
      "source": [
        "# use \\n to add a line break in your name\n",
        "print('Kezia\\nKent')"
      ],
      "metadata": {
        "id": "pEhnF_4zuwGv",
        "colab": {
          "base_uri": "https://localhost:8080/"
        },
        "outputId": "c9dabb80-7ed7-4992-9c59-ea6449c93fb3"
      },
      "execution_count": null,
      "outputs": [
        {
          "output_type": "stream",
          "name": "stdout",
          "text": [
            "Kezia\n",
            "Kent\n"
          ]
        }
      ]
    },
    {
      "cell_type": "code",
      "source": [
        "#create variable called space and add your name with spaces on the beginning and end\n",
        "\n",
        "space = '    kezia kent    '\n"
      ],
      "metadata": {
        "id": "S37v2ZyWvW34"
      },
      "execution_count": null,
      "outputs": []
    },
    {
      "cell_type": "code",
      "source": [
        "#.strip() method removes spaces from before and after text\n",
        "\n",
        "print(space.strip())"
      ],
      "metadata": {
        "id": "1dlH-2iqvc4W",
        "colab": {
          "base_uri": "https://localhost:8080/"
        },
        "outputId": "be4c1381-04df-4858-81ff-07bd15e89977"
      },
      "execution_count": null,
      "outputs": [
        {
          "output_type": "stream",
          "name": "stdout",
          "text": [
            "kezia kent\n"
          ]
        }
      ]
    },
    {
      "cell_type": "code",
      "source": [
        "#.rstrip() method removes spaces from the right side of text\n",
        "\n",
        "print(space.rstrip())"
      ],
      "metadata": {
        "id": "nHwxUk--vlL-",
        "colab": {
          "base_uri": "https://localhost:8080/"
        },
        "outputId": "c764d196-f99d-4068-8f0c-3d77b5abcd87"
      },
      "execution_count": null,
      "outputs": [
        {
          "output_type": "stream",
          "name": "stdout",
          "text": [
            "    kezia kent\n"
          ]
        }
      ]
    },
    {
      "cell_type": "code",
      "source": [
        "#.lstrip() method removes spaces from the left side of text \n",
        "\n",
        "print(space.lstrip())"
      ],
      "metadata": {
        "id": "ucXIYraBvqPK",
        "colab": {
          "base_uri": "https://localhost:8080/"
        },
        "outputId": "f4c577ed-5d8c-4857-e7ad-08a690fd85b6"
      },
      "execution_count": null,
      "outputs": [
        {
          "output_type": "stream",
          "name": "stdout",
          "text": [
            "kezia kent    \n"
          ]
        }
      ]
    },
    {
      "cell_type": "code",
      "source": [
        "#but none of these methods change the variable\n",
        "print(space)"
      ],
      "metadata": {
        "id": "Z6m7z6Bnv26b",
        "colab": {
          "base_uri": "https://localhost:8080/"
        },
        "outputId": "eb2669cb-6cf9-4db1-bf25-bf6d63a5a744"
      },
      "execution_count": null,
      "outputs": [
        {
          "output_type": "stream",
          "name": "stdout",
          "text": [
            "    kezia kent    \n"
          ]
        }
      ]
    },
    {
      "cell_type": "code",
      "source": [
        "# create a new variable to store the clean value"
      ],
      "metadata": {
        "id": "IdYVpxU0v_sI"
      },
      "execution_count": null,
      "outputs": []
    },
    {
      "cell_type": "code",
      "source": [
        "space_clean = space.strip()"
      ],
      "metadata": {
        "id": "BlUtapX7wFJZ"
      },
      "execution_count": null,
      "outputs": []
    },
    {
      "cell_type": "code",
      "source": [
        "space_clean"
      ],
      "metadata": {
        "id": "JLho-PId649S",
        "colab": {
          "base_uri": "https://localhost:8080/",
          "height": 35
        },
        "outputId": "a0cafd21-480c-4600-dcc4-4878b497fa26"
      },
      "execution_count": null,
      "outputs": [
        {
          "output_type": "execute_result",
          "data": {
            "text/plain": [
              "'kezia kent'"
            ],
            "application/vnd.google.colaboratory.intrinsic+json": {
              "type": "string"
            }
          },
          "metadata": {},
          "execution_count": 39
        }
      ]
    },
    {
      "cell_type": "markdown",
      "source": [
        "## TRY IT YOURSELF \n",
        "* Store a person’s name in a variable, and print a message to that person. Your message should be simple, such as, “Hello John, what are you doing after class?”\n",
        "* Store someone you knows name in a variable called name. Print their name in lower and uppercase.\n",
        "* Create a string that adds white space using “\\t”. Then use the function to strip the white space from your string.\n"
      ],
      "metadata": {
        "id": "Yw6bJr3lw6mZ"
      }
    },
    {
      "cell_type": "code",
      "source": [
        "person = 'Catherine'\n",
        "message1 = 'Hi Catherine, what is your favorite food?'"
      ],
      "metadata": {
        "id": "rc7o07ZN3hF2"
      },
      "execution_count": null,
      "outputs": []
    },
    {
      "cell_type": "code",
      "source": [
        "print(message1)"
      ],
      "metadata": {
        "id": "pxs3lcC45mMx",
        "colab": {
          "base_uri": "https://localhost:8080/"
        },
        "outputId": "5b6134a9-51c0-49b6-eb79-40cb16a06592"
      },
      "execution_count": null,
      "outputs": [
        {
          "output_type": "stream",
          "name": "stdout",
          "text": [
            "Hi Catherine, what is your favorite food?\n"
          ]
        }
      ]
    },
    {
      "cell_type": "code",
      "source": [
        "name = 'Louisa'\n",
        "\n",
        "print(name.upper())\n",
        "print(name.lower())\n"
      ],
      "metadata": {
        "id": "fN6srY9u6YEi",
        "colab": {
          "base_uri": "https://localhost:8080/"
        },
        "outputId": "90bf7ced-4bc5-48b2-c950-9fae2a34d20b"
      },
      "execution_count": null,
      "outputs": [
        {
          "output_type": "stream",
          "name": "stdout",
          "text": [
            "LOUISA\n",
            "louisa\n"
          ]
        }
      ]
    },
    {
      "cell_type": "code",
      "source": [
        "print('\\tChocolate Gumdrops')\n",
        "space = 'ChocolateGumdrops'\n",
        "print(space.strip())"
      ],
      "metadata": {
        "id": "Kj5aV1x57Jkr",
        "colab": {
          "base_uri": "https://localhost:8080/"
        },
        "outputId": "a75e7ffb-da17-43a2-e021-143f7bc8ff98"
      },
      "execution_count": null,
      "outputs": [
        {
          "output_type": "stream",
          "name": "stdout",
          "text": [
            "\tChocolate Gumdrops\n",
            "ChocolateGumdrops\n"
          ]
        }
      ]
    },
    {
      "cell_type": "code",
      "source": [
        ""
      ],
      "metadata": {
        "id": "GbjrTVq_8BdP"
      },
      "execution_count": null,
      "outputs": []
    },
    {
      "cell_type": "code",
      "source": [
        ""
      ],
      "metadata": {
        "id": "YeVpDhZl8PxD"
      },
      "execution_count": null,
      "outputs": []
    },
    {
      "cell_type": "markdown",
      "source": [
        "###Numbers in Python"
      ],
      "metadata": {
        "id": "rgW_y1tx66_E"
      }
    },
    {
      "cell_type": "code",
      "source": [
        "x = 7 # 7 is an integer data type\n",
        "y = 7.6 # 7.6 is a float (decimal) data type"
      ],
      "metadata": {
        "id": "LW6Zxgqj-NqR"
      },
      "execution_count": null,
      "outputs": []
    },
    {
      "cell_type": "code",
      "source": [
        "print(y + 2)\n",
        "print(y - 6)\n",
        "print(y * y)\n",
        "print(y**2)"
      ],
      "metadata": {
        "id": "fBMDZh7Y-Tfy",
        "colab": {
          "base_uri": "https://localhost:8080/"
        },
        "outputId": "bddf5ee2-215c-42c8-e2d7-f4b5cd423e71"
      },
      "execution_count": null,
      "outputs": [
        {
          "output_type": "stream",
          "name": "stdout",
          "text": [
            "9.6\n",
            "1.5999999999999996\n",
            "57.76\n",
            "57.76\n"
          ]
        }
      ]
    },
    {
      "cell_type": "code",
      "source": [
        "print(x + 2)\n",
        "print(x - 6)\n",
        "print(x * x)\n",
        "print(x**2)"
      ],
      "metadata": {
        "id": "Kj022tvIFfFF",
        "colab": {
          "base_uri": "https://localhost:8080/"
        },
        "outputId": "f9297f2b-afda-4ff6-b6d8-357a9aa71610"
      },
      "execution_count": null,
      "outputs": [
        {
          "output_type": "stream",
          "name": "stdout",
          "text": [
            "9\n",
            "1\n",
            "49\n",
            "49\n"
          ]
        }
      ]
    },
    {
      "cell_type": "code",
      "source": [
        ""
      ],
      "metadata": {
        "id": "O4E7TxaO8Mce"
      },
      "execution_count": null,
      "outputs": []
    },
    {
      "cell_type": "markdown",
      "source": [
        "##TYPE ERRORS "
      ],
      "metadata": {
        "id": "aql4exA2-NSm"
      }
    },
    {
      "cell_type": "code",
      "source": [
        "age = 40"
      ],
      "metadata": {
        "id": "mYC8qLVtGV9z"
      },
      "execution_count": null,
      "outputs": []
    },
    {
      "cell_type": "code",
      "source": [
        "message6 = \"Today is my birthday. I am \" + str(age) + \". Happy birthday to me!\""
      ],
      "metadata": {
        "id": "DJLQgagiGcc4"
      },
      "execution_count": null,
      "outputs": []
    },
    {
      "cell_type": "code",
      "source": [
        "print(message6)"
      ],
      "metadata": {
        "id": "LP1RwrZpGwQH",
        "colab": {
          "base_uri": "https://localhost:8080/"
        },
        "outputId": "233e5de3-d738-4366-b3e6-4ae402e76ccd"
      },
      "execution_count": null,
      "outputs": [
        {
          "output_type": "stream",
          "name": "stdout",
          "text": [
            "Today is my birthday. I am 40. Happy birthday to me!\n"
          ]
        }
      ]
    },
    {
      "cell_type": "markdown",
      "source": [
        "## Try it yourself\n",
        "\n",
        "\n",
        "*   Write addition, subtraction, multiplication, and division operations that each result in the number 8.  For example: print(5 + 3)\n",
        "*   Store your favorite number in a variable.  Then, create a message telling your friend what your favorite number is.\n"
      ],
      "metadata": {
        "id": "r9aw7qzF73cT"
      }
    },
    {
      "cell_type": "code",
      "source": [
        "print (6+2)\n",
        "print (10-2)"
      ],
      "metadata": {
        "id": "pCqfzqFI75P8",
        "colab": {
          "base_uri": "https://localhost:8080/"
        },
        "outputId": "60a891f5-3950-4d4e-9bdd-f00c91e47718"
      },
      "execution_count": null,
      "outputs": [
        {
          "output_type": "stream",
          "name": "stdout",
          "text": [
            "8\n",
            "8\n"
          ]
        }
      ]
    },
    {
      "cell_type": "code",
      "source": [
        "print(4*2)\n",
        "print(16/2)"
      ],
      "metadata": {
        "id": "O_nI5vJn75g5",
        "colab": {
          "base_uri": "https://localhost:8080/"
        },
        "outputId": "5096c5cf-992b-4633-c6da-c76840a90569"
      },
      "execution_count": null,
      "outputs": [
        {
          "output_type": "stream",
          "name": "stdout",
          "text": [
            "8\n",
            "8.0\n"
          ]
        }
      ]
    },
    {
      "cell_type": "code",
      "source": [
        ""
      ],
      "metadata": {
        "id": "vttfvGnx75nz"
      },
      "execution_count": null,
      "outputs": []
    },
    {
      "cell_type": "code",
      "source": [
        ""
      ],
      "metadata": {
        "id": "fiqyr9cZ75sX"
      },
      "execution_count": null,
      "outputs": []
    }
  ]
}